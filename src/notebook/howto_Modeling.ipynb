{
 "cells": [
  {
   "cell_type": "markdown",
   "metadata": {},
   "source": [
    "## 予測モデルの作り方・評価の仕方\n",
    "以下の流れを、簡単なモデルを例にやってみる。なにか助けになれば幸いです。\n",
    "\n",
    "1. 何らかのアプローチでモデルを作る\n",
    "1. 内部評価をする\n",
    "1. 提出をする"
   ]
  },
  {
   "cell_type": "markdown",
   "metadata": {},
   "source": [
    "## 1. モデルを作る\n",
    "今回はシンプルに、trainの死亡フライト数の分布を使った簡単な予測モデルを作ってみる。\n",
    "\n",
    "今回の思想\n",
    "* 死亡するフライト数を予測して、最後のフライト数から引き算すれば残存寿命になるのはず（残存寿命 = 死亡フライト数 - そのときのフライト数）\n",
    "* どのエンジンもだいたい同じフライト数で死ぬでしょみたいなニュアンス"
   ]
  },
  {
   "cell_type": "markdown",
   "metadata": {},
   "source": [
    "### データの読み込み"
   ]
  },
  {
   "cell_type": "code",
   "execution_count": 47,
   "metadata": {},
   "outputs": [],
   "source": [
    "import sys\n",
    "sys.path.append('D://isid_phm/src/')"
   ]
  },
  {
   "cell_type": "code",
   "execution_count": 48,
   "metadata": {},
   "outputs": [],
   "source": [
    "from libs.Dataset import Dataset"
   ]
  },
  {
   "cell_type": "code",
   "execution_count": 49,
   "metadata": {},
   "outputs": [],
   "source": [
    "df = Dataset().load_data(reproduce=True, cutoff=False)"
   ]
  },
  {
   "cell_type": "code",
   "execution_count": 50,
   "metadata": {},
   "outputs": [],
   "source": [
    "# train, valid, testのデータに分割\n",
    "train = df[(df['is_train'] == 1) & (df['is_valid'] == 0)]\n",
    "valid = df[df['is_valid'] == 1]\n",
    "test = df[df['is_train'] == 0]"
   ]
  },
  {
   "cell_type": "markdown",
   "metadata": {},
   "source": [
    "### 予測モデルをつくる\n",
    "\n",
    "各エンジンのtrainの死亡フライト数の平均を、testの死亡フライト数の予測値とする"
   ]
  },
  {
   "cell_type": "code",
   "execution_count": 51,
   "metadata": {},
   "outputs": [],
   "source": [
    "# 各エンジン別に死亡フライト数を集計\n",
    "dead_flight = train.groupby('engine_no')['dead_duration'].first()"
   ]
  },
  {
   "cell_type": "code",
   "execution_count": 52,
   "metadata": {},
   "outputs": [
    {
     "data": {
      "text/plain": [
       "engine_no\n",
       "Train_Engine_001    148\n",
       "Train_Engine_002    268\n",
       "Train_Engine_003    205\n",
       "Train_Engine_004    234\n",
       "Train_Engine_005    153\n",
       "Name: dead_duration, dtype: int64"
      ]
     },
     "execution_count": 52,
     "metadata": {},
     "output_type": "execute_result"
    }
   ],
   "source": [
    "dead_flight.head()"
   ]
  },
  {
   "cell_type": "code",
   "execution_count": 53,
   "metadata": {},
   "outputs": [
    {
     "data": {
      "text/plain": [
       "206.12173913043478"
      ]
     },
     "execution_count": 53,
     "metadata": {},
     "output_type": "execute_result"
    }
   ],
   "source": [
    "dead_mean = dead_flight.mean()\n",
    "dead_mean"
   ]
  },
  {
   "cell_type": "markdown",
   "metadata": {},
   "source": [
    "この値を予測死亡フライト数とする"
   ]
  },
  {
   "cell_type": "markdown",
   "metadata": {},
   "source": [
    "## 2. 内部評価をする\n",
    "\n",
    "さっきの予測がどれくらい正しいのかを、validデータを使って評価する。\n",
    "* 一日１submitしか出来ないので、内部検証が出来ないとモデルの改善等のPDCAスピードが遅くなるため\n",
    "* validは、元データのtrainデータのエンジンNo1～260の中からランダムに30個エンジンくらいを選んだもの\n",
    "* validもtrainと同様、正解の死亡フライト数を持っている\n",
    "* trainにvalidは含まれない(含めてしまうと、testと同じような状況での評価ができない）"
   ]
  },
  {
   "cell_type": "code",
   "execution_count": 54,
   "metadata": {},
   "outputs": [
    {
     "data": {
      "text/plain": [
       "30"
      ]
     },
     "execution_count": 54,
     "metadata": {},
     "output_type": "execute_result"
    }
   ],
   "source": [
    "valid['engine_no'].nunique()"
   ]
  },
  {
   "cell_type": "code",
   "execution_count": 55,
   "metadata": {},
   "outputs": [
    {
     "data": {
      "text/plain": [
       "230"
      ]
     },
     "execution_count": 55,
     "metadata": {},
     "output_type": "execute_result"
    }
   ],
   "source": [
    "train['engine_no'].nunique()"
   ]
  },
  {
   "cell_type": "markdown",
   "metadata": {},
   "source": [
    "このように、validは30機分のエンジンを評価用に残してある"
   ]
  },
  {
   "cell_type": "code",
   "execution_count": 56,
   "metadata": {},
   "outputs": [
    {
     "data": {
      "text/plain": [
       "0    206.121739\n",
       "1    206.121739\n",
       "2    206.121739\n",
       "3    206.121739\n",
       "4    206.121739\n",
       "dtype: float64"
      ]
     },
     "execution_count": 56,
     "metadata": {},
     "output_type": "execute_result"
    }
   ],
   "source": [
    "import pandas as pd\n",
    "\n",
    "# 各エンジンに対する死亡フライト数の予測値\n",
    "predict_dead_valid = pd.Series([dead_mean]*(valid['engine_no'].nunique()))\n",
    "predict_dead_valid.head()"
   ]
  },
  {
   "cell_type": "code",
   "execution_count": 57,
   "metadata": {},
   "outputs": [
    {
     "data": {
      "text/plain": [
       "engine_no\n",
       "Train_Engine_008_reuse_0    150\n",
       "Train_Engine_009_reuse_0    198\n",
       "Train_Engine_038_reuse_0    176\n",
       "Train_Engine_046_reuse_0    200\n",
       "Train_Engine_056_reuse_0    162\n",
       "Name: dead_duration, dtype: int64"
      ]
     },
     "execution_count": 57,
     "metadata": {},
     "output_type": "execute_result"
    }
   ],
   "source": [
    "# 本当のvalidの死亡フライト数\n",
    "true_dead_valid = valid.groupby(['engine_no'])['dead_duration'].first()\n",
    "true_dead_valid.head()"
   ]
  },
  {
   "cell_type": "markdown",
   "metadata": {},
   "source": [
    "ここで本当の死亡フライト数と予測したフライト数を平均絶対誤差で評価する\n",
    "* 残存寿命で評価しない理由は、「残存寿命 = 死亡フライト数 - 現在のフライト数」なので、残存寿命で評価しても死亡フライト数でも同じ値になるため\n",
    "* 平均絶対誤差は提出スコアも同じ評価基準で評価されるため、同じものを用いる"
   ]
  },
  {
   "cell_type": "code",
   "execution_count": 58,
   "metadata": {},
   "outputs": [
    {
     "data": {
      "text/plain": [
       "34.06579710144927"
      ]
     },
     "execution_count": 58,
     "metadata": {},
     "output_type": "execute_result"
    }
   ],
   "source": [
    "from sklearn.metrics import mean_absolute_error\n",
    "\n",
    "mean_absolute_error(true_dead_valid, predict_dead_valid)"
   ]
  },
  {
   "cell_type": "markdown",
   "metadata": {},
   "source": [
    "内部評価ができた!\n",
    "\n",
    "* この値がいいかどうかは、他の手法/アプローチと比較することで判断する\n",
    "* この値が公式のsubmitスコアとほぼ同じになれば理想。そうすればsubmitすることなく、内部評価を繰り返せば検討が可能になる。\n",
    "* 同じにならなくても、この内部評価スコアとsubmitスコアに相関が出れば、検討には十分使える"
   ]
  },
  {
   "cell_type": "markdown",
   "metadata": {},
   "source": [
    "## 3. 提出をする\n",
    "\n",
    "いい感じのモデルができたら、そのモデルを使ってtestデータの予測を行い、提出の形に整える\n",
    "\n",
    "### testデータの予測"
   ]
  },
  {
   "cell_type": "code",
   "execution_count": 59,
   "metadata": {},
   "outputs": [
    {
     "data": {
      "text/plain": [
       "0    206.121739\n",
       "1    206.121739\n",
       "2    206.121739\n",
       "3    206.121739\n",
       "4    206.121739\n",
       "dtype: float64"
      ]
     },
     "execution_count": 59,
     "metadata": {},
     "output_type": "execute_result"
    }
   ],
   "source": [
    "# testの予測死亡フライト数\n",
    "predict_dead_test = pd.Series([dead_mean]*(test['engine_no'].nunique()))\n",
    "predict_dead_test.head()"
   ]
  },
  {
   "cell_type": "markdown",
   "metadata": {},
   "source": [
    "今回はシンプルなモデルのため上記の形のなっているが、回帰分析などのモデルでは\n",
    "下記のような作ったモデルに対して予測を行う\n",
    "```python\n",
    "predict_dead_test = MySuperModel.predict(test)\n",
    "```\n",
    "\n",
    "ここで、提出したいのは死亡フライト数ではなく、残存寿命なのでその計算を行う"
   ]
  },
  {
   "cell_type": "code",
   "execution_count": 60,
   "metadata": {},
   "outputs": [
    {
     "data": {
      "text/plain": [
       "engine_no\n",
       "Test_Engine_001     57\n",
       "Test_Engine_002    195\n",
       "Test_Engine_003    124\n",
       "Test_Engine_004     49\n",
       "Test_Engine_005    162\n",
       "Name: duration, dtype: int64"
      ]
     },
     "execution_count": 60,
     "metadata": {},
     "output_type": "execute_result"
    }
   ],
   "source": [
    "# 各エンジンのtestの最後に記録されていたフライト数\n",
    "last_flight_test = test.groupby('engine_no')['duration'].last()\n",
    "last_flight_test.head()"
   ]
  },
  {
   "cell_type": "code",
   "execution_count": 61,
   "metadata": {},
   "outputs": [
    {
     "data": {
      "text/plain": [
       "engine_no\n",
       "Test_Engine_001    149.121739\n",
       "Test_Engine_002     11.121739\n",
       "Test_Engine_003     82.121739\n",
       "Test_Engine_004    157.121739\n",
       "Test_Engine_005     44.121739\n",
       "dtype: float64"
      ]
     },
     "execution_count": 61,
     "metadata": {},
     "output_type": "execute_result"
    }
   ],
   "source": [
    "# 残存寿命 = 予測死亡フライト数 - 記録されている最後のフライト数\n",
    "predict_dead_test.index = last_flight_test.index\n",
    "predict_rul = predict_dead_test - last_flight_test\n",
    "predict_rul.head()"
   ]
  },
  {
   "cell_type": "markdown",
   "metadata": {},
   "source": [
    "残存寿命の予測値ができたので、これをsubmitの形にして提出！"
   ]
  },
  {
   "cell_type": "code",
   "execution_count": null,
   "metadata": {},
   "outputs": [],
   "source": []
  }
 ],
 "metadata": {
  "kernelspec": {
   "display_name": "isid",
   "language": "python",
   "name": "isid"
  },
  "language_info": {
   "codemirror_mode": {
    "name": "ipython",
    "version": 3
   },
   "file_extension": ".py",
   "mimetype": "text/x-python",
   "name": "python",
   "nbconvert_exporter": "python",
   "pygments_lexer": "ipython3",
   "version": "3.7.2"
  }
 },
 "nbformat": 4,
 "nbformat_minor": 2
}
