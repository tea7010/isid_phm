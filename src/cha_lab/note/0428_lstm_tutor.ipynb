{
 "cells": [
  {
   "cell_type": "code",
   "execution_count": 3,
   "metadata": {},
   "outputs": [],
   "source": [
    "import numpy as np"
   ]
  },
  {
   "cell_type": "code",
   "execution_count": 4,
   "metadata": {},
   "outputs": [],
   "source": [
    "from keras.models import Sequential\n",
    "from keras.layers.core import Dense, Activation\n",
    "from keras.layers.recurrent import LSTM\n",
    "from keras.optimizers import Adam\n",
    "from keras.callbacks import EarlyStopping"
   ]
  },
  {
   "cell_type": "code",
   "execution_count": 7,
   "metadata": {},
   "outputs": [],
   "source": [
    "def sin(x, T=100):\n",
    "    return np.sin(2.0*np.pi*x/T)\n",
    "\n",
    "def toy_problem(T=100, ampl=0.05):\n",
    "    x = np.arange(0, 2*T+1)\n",
    "    noise = ampl * np.random.uniform(low=1.0, high=1.0, size=len(x))\n",
    "    return sin(x) + noise"
   ]
  },
  {
   "cell_type": "code",
   "execution_count": 8,
   "metadata": {},
   "outputs": [],
   "source": [
    "f = toy_problem()"
   ]
  },
  {
   "cell_type": "code",
   "execution_count": 10,
   "metadata": {},
   "outputs": [
    {
     "data": {
      "text/plain": [
       "(201,)"
      ]
     },
     "execution_count": 10,
     "metadata": {},
     "output_type": "execute_result"
    }
   ],
   "source": [
    "f.shape"
   ]
  },
  {
   "cell_type": "code",
   "execution_count": 40,
   "metadata": {},
   "outputs": [],
   "source": [
    "def make_dataset(low_data, maxlen=25):\n",
    "    data, target = [], []\n",
    "    \n",
    "    for i in range(len(low_data)-maxlen):\n",
    "        data.append(low_data[i:i + maxlen])\n",
    "        target.append(low_data[i + maxlen])\n",
    "        \n",
    "    re_data = np.array(data).reshape(len(data), maxlen, 1)\n",
    "    re_target = np.array(target).reshape(len(data), 1)\n",
    "    \n",
    "    return re_data, re_target"
   ]
  },
  {
   "cell_type": "code",
   "execution_count": 41,
   "metadata": {},
   "outputs": [],
   "source": [
    "g, h = make_dataset(f)"
   ]
  },
  {
   "cell_type": "code",
   "execution_count": 42,
   "metadata": {},
   "outputs": [
    {
     "data": {
      "text/plain": [
       "((176, 25, 1), (176, 1))"
      ]
     },
     "execution_count": 42,
     "metadata": {},
     "output_type": "execute_result"
    }
   ],
   "source": [
    "g.shape, h.shape"
   ]
  },
  {
   "cell_type": "code",
   "execution_count": 43,
   "metadata": {},
   "outputs": [
    {
     "data": {
      "text/plain": [
       "(176, 25, 1)"
      ]
     },
     "execution_count": 43,
     "metadata": {},
     "output_type": "execute_result"
    }
   ],
   "source": [
    "g.shape"
   ]
  },
  {
   "cell_type": "code",
   "execution_count": 38,
   "metadata": {},
   "outputs": [
    {
     "data": {
      "text/plain": [
       "(26, 1)"
      ]
     },
     "execution_count": 38,
     "metadata": {},
     "output_type": "execute_result"
    }
   ],
   "source": [
    "g[0].shape"
   ]
  },
  {
   "cell_type": "code",
   "execution_count": 39,
   "metadata": {},
   "outputs": [
    {
     "data": {
      "text/html": [
       "<div>\n",
       "<style scoped>\n",
       "    .dataframe tbody tr th:only-of-type {\n",
       "        vertical-align: middle;\n",
       "    }\n",
       "\n",
       "    .dataframe tbody tr th {\n",
       "        vertical-align: top;\n",
       "    }\n",
       "\n",
       "    .dataframe thead th {\n",
       "        text-align: right;\n",
       "    }\n",
       "</style>\n",
       "<table border=\"1\" class=\"dataframe\">\n",
       "  <thead>\n",
       "    <tr style=\"text-align: right;\">\n",
       "      <th></th>\n",
       "      <th>0</th>\n",
       "      <th>1</th>\n",
       "      <th>2</th>\n",
       "      <th>3</th>\n",
       "      <th>4</th>\n",
       "      <th>5</th>\n",
       "      <th>6</th>\n",
       "      <th>7</th>\n",
       "      <th>8</th>\n",
       "      <th>9</th>\n",
       "      <th>10</th>\n",
       "      <th>11</th>\n",
       "      <th>12</th>\n",
       "      <th>13</th>\n",
       "      <th>14</th>\n",
       "      <th>15</th>\n",
       "      <th>16</th>\n",
       "      <th>17</th>\n",
       "      <th>18</th>\n",
       "      <th>19</th>\n",
       "      <th>20</th>\n",
       "      <th>21</th>\n",
       "      <th>22</th>\n",
       "      <th>23</th>\n",
       "      <th>24</th>\n",
       "      <th>25</th>\n",
       "    </tr>\n",
       "  </thead>\n",
       "  <tbody>\n",
       "    <tr>\n",
       "      <th>0</th>\n",
       "      <td>0.050000</td>\n",
       "      <td>0.112791</td>\n",
       "      <td>0.175333</td>\n",
       "      <td>0.237381</td>\n",
       "      <td>0.298690</td>\n",
       "      <td>0.359017</td>\n",
       "      <td>0.418125</td>\n",
       "      <td>0.475779</td>\n",
       "      <td>0.531754</td>\n",
       "      <td>0.585827</td>\n",
       "      <td>0.637785</td>\n",
       "      <td>0.687424</td>\n",
       "      <td>0.734547</td>\n",
       "      <td>0.778969</td>\n",
       "      <td>0.820513</td>\n",
       "      <td>0.859017</td>\n",
       "      <td>0.894328</td>\n",
       "      <td>0.926307</td>\n",
       "      <td>0.954827</td>\n",
       "      <td>0.979776</td>\n",
       "      <td>1.001057</td>\n",
       "      <td>1.018583</td>\n",
       "      <td>1.032287</td>\n",
       "      <td>1.042115</td>\n",
       "      <td>1.048027</td>\n",
       "      <td>1.050000</td>\n",
       "    </tr>\n",
       "    <tr>\n",
       "      <th>1</th>\n",
       "      <td>0.112791</td>\n",
       "      <td>0.175333</td>\n",
       "      <td>0.237381</td>\n",
       "      <td>0.298690</td>\n",
       "      <td>0.359017</td>\n",
       "      <td>0.418125</td>\n",
       "      <td>0.475779</td>\n",
       "      <td>0.531754</td>\n",
       "      <td>0.585827</td>\n",
       "      <td>0.637785</td>\n",
       "      <td>0.687424</td>\n",
       "      <td>0.734547</td>\n",
       "      <td>0.778969</td>\n",
       "      <td>0.820513</td>\n",
       "      <td>0.859017</td>\n",
       "      <td>0.894328</td>\n",
       "      <td>0.926307</td>\n",
       "      <td>0.954827</td>\n",
       "      <td>0.979776</td>\n",
       "      <td>1.001057</td>\n",
       "      <td>1.018583</td>\n",
       "      <td>1.032287</td>\n",
       "      <td>1.042115</td>\n",
       "      <td>1.048027</td>\n",
       "      <td>1.050000</td>\n",
       "      <td>1.048027</td>\n",
       "    </tr>\n",
       "    <tr>\n",
       "      <th>2</th>\n",
       "      <td>0.175333</td>\n",
       "      <td>0.237381</td>\n",
       "      <td>0.298690</td>\n",
       "      <td>0.359017</td>\n",
       "      <td>0.418125</td>\n",
       "      <td>0.475779</td>\n",
       "      <td>0.531754</td>\n",
       "      <td>0.585827</td>\n",
       "      <td>0.637785</td>\n",
       "      <td>0.687424</td>\n",
       "      <td>0.734547</td>\n",
       "      <td>0.778969</td>\n",
       "      <td>0.820513</td>\n",
       "      <td>0.859017</td>\n",
       "      <td>0.894328</td>\n",
       "      <td>0.926307</td>\n",
       "      <td>0.954827</td>\n",
       "      <td>0.979776</td>\n",
       "      <td>1.001057</td>\n",
       "      <td>1.018583</td>\n",
       "      <td>1.032287</td>\n",
       "      <td>1.042115</td>\n",
       "      <td>1.048027</td>\n",
       "      <td>1.050000</td>\n",
       "      <td>1.048027</td>\n",
       "      <td>1.042115</td>\n",
       "    </tr>\n",
       "    <tr>\n",
       "      <th>3</th>\n",
       "      <td>0.237381</td>\n",
       "      <td>0.298690</td>\n",
       "      <td>0.359017</td>\n",
       "      <td>0.418125</td>\n",
       "      <td>0.475779</td>\n",
       "      <td>0.531754</td>\n",
       "      <td>0.585827</td>\n",
       "      <td>0.637785</td>\n",
       "      <td>0.687424</td>\n",
       "      <td>0.734547</td>\n",
       "      <td>0.778969</td>\n",
       "      <td>0.820513</td>\n",
       "      <td>0.859017</td>\n",
       "      <td>0.894328</td>\n",
       "      <td>0.926307</td>\n",
       "      <td>0.954827</td>\n",
       "      <td>0.979776</td>\n",
       "      <td>1.001057</td>\n",
       "      <td>1.018583</td>\n",
       "      <td>1.032287</td>\n",
       "      <td>1.042115</td>\n",
       "      <td>1.048027</td>\n",
       "      <td>1.050000</td>\n",
       "      <td>1.048027</td>\n",
       "      <td>1.042115</td>\n",
       "      <td>1.032287</td>\n",
       "    </tr>\n",
       "    <tr>\n",
       "      <th>4</th>\n",
       "      <td>0.298690</td>\n",
       "      <td>0.359017</td>\n",
       "      <td>0.418125</td>\n",
       "      <td>0.475779</td>\n",
       "      <td>0.531754</td>\n",
       "      <td>0.585827</td>\n",
       "      <td>0.637785</td>\n",
       "      <td>0.687424</td>\n",
       "      <td>0.734547</td>\n",
       "      <td>0.778969</td>\n",
       "      <td>0.820513</td>\n",
       "      <td>0.859017</td>\n",
       "      <td>0.894328</td>\n",
       "      <td>0.926307</td>\n",
       "      <td>0.954827</td>\n",
       "      <td>0.979776</td>\n",
       "      <td>1.001057</td>\n",
       "      <td>1.018583</td>\n",
       "      <td>1.032287</td>\n",
       "      <td>1.042115</td>\n",
       "      <td>1.048027</td>\n",
       "      <td>1.050000</td>\n",
       "      <td>1.048027</td>\n",
       "      <td>1.042115</td>\n",
       "      <td>1.032287</td>\n",
       "      <td>1.018583</td>\n",
       "    </tr>\n",
       "  </tbody>\n",
       "</table>\n",
       "</div>"
      ],
      "text/plain": [
       "         0         1         2         3   ...        22        23        24        25\n",
       "0  0.050000  0.112791  0.175333  0.237381  ...  1.032287  1.042115  1.048027  1.050000\n",
       "1  0.112791  0.175333  0.237381  0.298690  ...  1.042115  1.048027  1.050000  1.048027\n",
       "2  0.175333  0.237381  0.298690  0.359017  ...  1.048027  1.050000  1.048027  1.042115\n",
       "3  0.237381  0.298690  0.359017  0.418125  ...  1.050000  1.048027  1.042115  1.032287\n",
       "4  0.298690  0.359017  0.418125  0.475779  ...  1.048027  1.042115  1.032287  1.018583\n",
       "\n",
       "[5 rows x 26 columns]"
      ]
     },
     "execution_count": 39,
     "metadata": {},
     "output_type": "execute_result"
    }
   ],
   "source": [
    "pd.DataFrame(g[:,:,0]).head()"
   ]
  },
  {
   "cell_type": "code",
   "execution_count": 74,
   "metadata": {},
   "outputs": [
    {
     "data": {
      "text/plain": [
       "<matplotlib.axes._subplots.AxesSubplot at 0x7f47928cc240>"
      ]
     },
     "execution_count": 74,
     "metadata": {},
     "output_type": "execute_result"
    },
    {
     "data": {
      "image/png": "[encoded data removed]",
      "text/plain": [
       "<Figure size 432x288 with 1 Axes>"
      ]
     },
     "metadata": {
      "needs_background": "light"
     },
     "output_type": "display_data"
    }
   ],
   "source": [
    "pd.Series(h[:,0]).plot()"
   ]
  },
  {
   "cell_type": "code",
   "execution_count": 75,
   "metadata": {},
   "outputs": [
    {
     "data": {
      "text/plain": [
       "<matplotlib.axes._subplots.AxesSubplot at 0x7f4792828128>"
      ]
     },
     "execution_count": 75,
     "metadata": {},
     "output_type": "execute_result"
    },
    {
     "data": {
      "image/png": "[encoded data removed]",
      "text/plain": [
       "<Figure size 432x288 with 1 Axes>"
      ]
     },
     "metadata": {
      "needs_background": "light"
     },
     "output_type": "display_data"
    }
   ],
   "source": [
    "i = np.random.choice(range(25))\n",
    "pd.Series(g[:, i, 0]).plot()"
   ]
  },
  {
   "cell_type": "code",
   "execution_count": 76,
   "metadata": {},
   "outputs": [
    {
     "data": {
      "text/plain": [
       "<matplotlib.axes._subplots.AxesSubplot at 0x7f4792807860>"
      ]
     },
     "execution_count": 76,
     "metadata": {},
     "output_type": "execute_result"
    },
    {
     "data": {
      "image/png": "[encoded data removed]",
      "text/plain": [
       "<Figure size 432x288 with 1 Axes>"
      ]
     },
     "metadata": {
      "needs_background": "light"
     },
     "output_type": "display_data"
    }
   ],
   "source": [
    "i = np.random.choice(range(165))\n",
    "pd.Series(g[1, :, 0]).plot()"
   ]
  },
  {
   "cell_type": "markdown",
   "metadata": {},
   "source": [
    "### Construct model"
   ]
  },
  {
   "cell_type": "code",
   "execution_count": 81,
   "metadata": {},
   "outputs": [],
   "source": [
    "length_of_sequence = g.shape[1]\n",
    "in_out_neurons = 1\n",
    "n_hidden = 300\n",
    "\n",
    "model = Sequential()\n",
    "model.add(LSTM(n_hidden, batch_input_shape=(None, length_of_sequence, in_out_neurons)))\n",
    "model.add(Dense(in_out_neurons))\n",
    "model.add(Activation('linear'))\n",
    "model.compile(loss='mean_squared_error', optimizer=Adam(lr=0.001))"
   ]
  },
  {
   "cell_type": "code",
   "execution_count": 82,
   "metadata": {},
   "outputs": [
    {
     "name": "stdout",
     "output_type": "stream",
     "text": [
      "WARNING:tensorflow:From /home/naoto/miniconda3/envs/isid_linux/lib/python3.7/site-packages/tensorflow/python/ops/math_ops.py:3066: to_int32 (from tensorflow.python.ops.math_ops) is deprecated and will be removed in a future version.\n",
      "Instructions for updating:\n",
      "Use tf.cast instead.\n",
      "Train on 158 samples, validate on 18 samples\n",
      "Epoch 1/100\n",
      "158/158 [==============================] - 3s 18ms/step - loss: 0.4837 - val_loss: 0.1642\n",
      "Epoch 2/100\n",
      "158/158 [==============================] - 0s 2ms/step - loss: 0.3685 - val_loss: 0.0905\n",
      "Epoch 3/100\n",
      "158/158 [==============================] - 0s 2ms/step - loss: 0.2551 - val_loss: 0.0393\n",
      "Epoch 4/100\n",
      "158/158 [==============================] - 0s 2ms/step - loss: 0.1587 - val_loss: 0.0362\n",
      "Epoch 5/100\n",
      "158/158 [==============================] - 0s 2ms/step - loss: 0.1038 - val_loss: 0.1007\n",
      "Epoch 6/100\n",
      "158/158 [==============================] - 0s 2ms/step - loss: 0.1095 - val_loss: 0.1169\n",
      "Epoch 7/100\n",
      "158/158 [==============================] - 0s 2ms/step - loss: 0.0819 - val_loss: 0.0833\n",
      "Epoch 8/100\n",
      "158/158 [==============================] - 0s 2ms/step - loss: 0.0485 - val_loss: 0.0474\n",
      "Epoch 9/100\n",
      "158/158 [==============================] - 0s 2ms/step - loss: 0.0364 - val_loss: 0.0264\n",
      "Epoch 10/100\n",
      "158/158 [==============================] - 0s 2ms/step - loss: 0.0370 - val_loss: 0.0168\n",
      "Epoch 11/100\n",
      "158/158 [==============================] - 0s 2ms/step - loss: 0.0396 - val_loss: 0.0129\n",
      "Epoch 12/100\n",
      "158/158 [==============================] - 0s 2ms/step - loss: 0.0390 - val_loss: 0.0116\n",
      "Epoch 13/100\n",
      "158/158 [==============================] - 0s 2ms/step - loss: 0.0340 - val_loss: 0.0121\n",
      "Epoch 14/100\n",
      "158/158 [==============================] - 0s 2ms/step - loss: 0.0258 - val_loss: 0.0147\n",
      "Epoch 15/100\n",
      "158/158 [==============================] - 0s 2ms/step - loss: 0.0168 - val_loss: 0.0197\n",
      "Epoch 16/100\n",
      "158/158 [==============================] - 0s 2ms/step - loss: 0.0103 - val_loss: 0.0247\n",
      "Epoch 17/100\n",
      "158/158 [==============================] - 0s 2ms/step - loss: 0.0088 - val_loss: 0.0229\n",
      "Epoch 18/100\n",
      "158/158 [==============================] - 0s 2ms/step - loss: 0.0103 - val_loss: 0.0119\n",
      "Epoch 19/100\n",
      "158/158 [==============================] - 0s 2ms/step - loss: 0.0088 - val_loss: 0.0019\n",
      "Epoch 20/100\n",
      "158/158 [==============================] - 0s 2ms/step - loss: 0.0040 - val_loss: 0.0013\n",
      "Epoch 21/100\n",
      "158/158 [==============================] - 0s 2ms/step - loss: 0.0015 - val_loss: 0.0070\n",
      "Epoch 22/100\n",
      "158/158 [==============================] - 0s 2ms/step - loss: 0.0038 - val_loss: 0.0118\n",
      "Epoch 23/100\n",
      "158/158 [==============================] - 0s 2ms/step - loss: 0.0072 - val_loss: 0.0122\n",
      "Epoch 24/100\n",
      "158/158 [==============================] - 0s 2ms/step - loss: 0.0076 - val_loss: 0.0089\n",
      "Epoch 25/100\n",
      "158/158 [==============================] - 0s 2ms/step - loss: 0.0047 - val_loss: 0.0042\n",
      "Epoch 26/100\n",
      "158/158 [==============================] - 0s 2ms/step - loss: 0.0018 - val_loss: 6.7375e-04\n",
      "Epoch 27/100\n",
      "158/158 [==============================] - 0s 2ms/step - loss: 0.0014 - val_loss: 1.9882e-04\n",
      "Epoch 28/100\n",
      "158/158 [==============================] - 0s 2ms/step - loss: 0.0027 - val_loss: 0.0015\n",
      "Epoch 29/100\n",
      "158/158 [==============================] - 0s 2ms/step - loss: 0.0028 - val_loss: 0.0025\n",
      "Epoch 30/100\n",
      "158/158 [==============================] - 0s 2ms/step - loss: 0.0016 - val_loss: 0.0028\n",
      "Epoch 31/100\n",
      "158/158 [==============================] - 0s 2ms/step - loss: 0.0013 - val_loss: 0.0026\n",
      "Epoch 32/100\n",
      "158/158 [==============================] - 0s 2ms/step - loss: 0.0020 - val_loss: 0.0020\n",
      "Epoch 33/100\n",
      "158/158 [==============================] - 0s 2ms/step - loss: 0.0023 - val_loss: 0.0012\n",
      "Epoch 34/100\n",
      "158/158 [==============================] - 0s 2ms/step - loss: 0.0017 - val_loss: 6.2916e-04\n",
      "Epoch 35/100\n",
      "158/158 [==============================] - 0s 2ms/step - loss: 0.0010 - val_loss: 6.3121e-04\n",
      "Epoch 36/100\n",
      "158/158 [==============================] - 0s 2ms/step - loss: 0.0014 - val_loss: 8.2462e-04\n",
      "Epoch 37/100\n",
      "158/158 [==============================] - 0s 2ms/step - loss: 0.0018 - val_loss: 7.0409e-04\n",
      "Epoch 38/100\n",
      "158/158 [==============================] - 0s 2ms/step - loss: 0.0011 - val_loss: 3.5525e-04\n",
      "Epoch 39/100\n",
      "158/158 [==============================] - 0s 2ms/step - loss: 2.4951e-04 - val_loss: 1.0646e-04\n",
      "Epoch 40/100\n",
      "158/158 [==============================] - 0s 2ms/step - loss: 3.3471e-04 - val_loss: 3.8463e-05\n",
      "Epoch 41/100\n",
      "158/158 [==============================] - 0s 2ms/step - loss: 8.5412e-04 - val_loss: 6.5307e-05\n",
      "Epoch 42/100\n",
      "158/158 [==============================] - 0s 2ms/step - loss: 9.7353e-04 - val_loss: 1.3922e-04\n",
      "Epoch 43/100\n",
      "158/158 [==============================] - 0s 2ms/step - loss: 6.4329e-04 - val_loss: 2.6965e-04\n",
      "Epoch 44/100\n",
      "158/158 [==============================] - 0s 2ms/step - loss: 3.7202e-04 - val_loss: 4.3129e-04\n",
      "Epoch 45/100\n",
      "158/158 [==============================] - 0s 2ms/step - loss: 4.3236e-04 - val_loss: 5.2570e-04\n",
      "Epoch 46/100\n",
      "158/158 [==============================] - 0s 2ms/step - loss: 5.5660e-04 - val_loss: 4.6946e-04\n",
      "Epoch 47/100\n",
      "158/158 [==============================] - 0s 2ms/step - loss: 4.6504e-04 - val_loss: 2.9569e-04\n",
      "Epoch 48/100\n",
      "158/158 [==============================] - 0s 2ms/step - loss: 2.9360e-04 - val_loss: 1.1510e-04\n",
      "Epoch 49/100\n",
      "158/158 [==============================] - 0s 2ms/step - loss: 2.4229e-04 - val_loss: 2.2325e-05\n",
      "Epoch 50/100\n",
      "158/158 [==============================] - 0s 2ms/step - loss: 2.5219e-04 - val_loss: 5.7627e-05\n",
      "Epoch 51/100\n",
      "158/158 [==============================] - 0s 2ms/step - loss: 1.9837e-04 - val_loss: 2.3154e-04\n",
      "Epoch 52/100\n",
      "158/158 [==============================] - 0s 2ms/step - loss: 1.2639e-04 - val_loss: 4.9526e-04\n",
      "Epoch 53/100\n",
      "158/158 [==============================] - 0s 2ms/step - loss: 1.5360e-04 - val_loss: 7.0608e-04\n",
      "Epoch 54/100\n",
      "158/158 [==============================] - 0s 2ms/step - loss: 2.5725e-04 - val_loss: 7.1424e-04\n",
      "Epoch 55/100\n",
      "158/158 [==============================] - 0s 2ms/step - loss: 2.9540e-04 - val_loss: 5.0258e-04\n",
      "Epoch 56/100\n",
      "158/158 [==============================] - 0s 2ms/step - loss: 2.0971e-04 - val_loss: 2.2107e-04\n",
      "Epoch 57/100\n",
      "158/158 [==============================] - 0s 2ms/step - loss: 1.0262e-04 - val_loss: 3.7753e-05\n",
      "Epoch 58/100\n",
      "158/158 [==============================] - 0s 2ms/step - loss: 7.9412e-05 - val_loss: 5.5709e-06\n",
      "Epoch 59/100\n",
      "158/158 [==============================] - 0s 2ms/step - loss: 1.1538e-04 - val_loss: 6.9275e-05\n",
      "Epoch 60/100\n",
      "158/158 [==============================] - 0s 2ms/step - loss: 1.2316e-04 - val_loss: 1.4789e-04\n",
      "Epoch 61/100\n",
      "158/158 [==============================] - 0s 2ms/step - loss: 8.3681e-05 - val_loss: 1.9430e-04\n",
      "Epoch 62/100\n",
      "158/158 [==============================] - 0s 2ms/step - loss: 5.5258e-05 - val_loss: 2.0131e-04\n",
      "Epoch 63/100\n",
      "158/158 [==============================] - 0s 2ms/step - loss: 7.2711e-05 - val_loss: 1.7912e-04\n",
      "Epoch 64/100\n",
      "158/158 [==============================] - 0s 2ms/step - loss: 9.7806e-05 - val_loss: 1.4118e-04\n",
      "Epoch 65/100\n",
      "158/158 [==============================] - 0s 2ms/step - loss: 8.9135e-05 - val_loss: 1.0257e-04\n",
      "Epoch 66/100\n",
      "158/158 [==============================] - 0s 2ms/step - loss: 6.4847e-05 - val_loss: 7.2555e-05\n",
      "Epoch 67/100\n",
      "158/158 [==============================] - 0s 2ms/step - loss: 5.9923e-05 - val_loss: 4.8741e-05\n",
      "Epoch 68/100\n",
      "158/158 [==============================] - 0s 2ms/step - loss: 6.7111e-05 - val_loss: 2.6397e-05\n",
      "Epoch 69/100\n",
      "158/158 [==============================] - 0s 2ms/step - loss: 5.7027e-05 - val_loss: 1.1895e-05\n",
      "Epoch 70/100\n",
      "158/158 [==============================] - 0s 2ms/step - loss: 2.9369e-05 - val_loss: 1.7016e-05\n",
      "Epoch 71/100\n",
      "158/158 [==============================] - 0s 2ms/step - loss: 1.4448e-05 - val_loss: 4.1160e-05\n",
      "Epoch 72/100\n",
      "158/158 [==============================] - 0s 2ms/step - loss: 2.7471e-05 - val_loss: 6.5602e-05\n",
      "Epoch 73/100\n",
      "158/158 [==============================] - 0s 2ms/step - loss: 4.6743e-05 - val_loss: 7.1554e-05\n",
      "Epoch 74/100\n",
      "158/158 [==============================] - 0s 2ms/step - loss: 4.7277e-05 - val_loss: 5.8825e-05\n",
      "Epoch 75/100\n",
      "158/158 [==============================] - 0s 2ms/step - loss: 3.4445e-05 - val_loss: 4.0952e-05\n",
      "Epoch 76/100\n",
      "158/158 [==============================] - 0s 2ms/step - loss: 2.7847e-05 - val_loss: 2.8554e-05\n",
      "Epoch 77/100\n",
      "158/158 [==============================] - 0s 2ms/step - loss: 3.0071e-05 - val_loss: 2.3594e-05\n",
      "Epoch 78/100\n",
      "158/158 [==============================] - 0s 2ms/step - loss: 2.9506e-05 - val_loss: 2.4212e-05\n"
     ]
    },
    {
     "data": {
      "text/plain": [
       "<keras.callbacks.History at 0x7f479189e2e8>"
      ]
     },
     "execution_count": 82,
     "metadata": {},
     "output_type": "execute_result"
    }
   ],
   "source": [
    "# learn\n",
    "\n",
    "early_stopping = EarlyStopping(monitor='val_loss', mode='auto', patience=20)\n",
    "\n",
    "model.fit(g, h, \n",
    "         batch_size=300,\n",
    "         epochs=100,\n",
    "         validation_split=0.1,\n",
    "         callbacks=[early_stopping])"
   ]
  },
  {
   "cell_type": "code",
   "execution_count": 83,
   "metadata": {},
   "outputs": [],
   "source": [
    "# predict\n",
    "predicted = model.predict(g)"
   ]
  },
  {
   "cell_type": "code",
   "execution_count": 85,
   "metadata": {},
   "outputs": [],
   "source": [
    "import matplotlib.pyplot as plt"
   ]
  },
  {
   "cell_type": "code",
   "execution_count": 86,
   "metadata": {},
   "outputs": [
    {
     "data": {
      "text/plain": [
       "<Figure size 432x288 with 0 Axes>"
      ]
     },
     "execution_count": 86,
     "metadata": {},
     "output_type": "execute_result"
    },
    {
     "data": {
      "text/plain": [
       "<Figure size 432x288 with 0 Axes>"
      ]
     },
     "metadata": {},
     "output_type": "display_data"
    }
   ],
   "source": [
    "plt.figure()\n",
    "plt.plot()"
   ]
  },
  {
   "cell_type": "code",
   "execution_count": 89,
   "metadata": {},
   "outputs": [
    {
     "data": {
      "text/plain": [
       "<matplotlib.axes._subplots.AxesSubplot at 0x7f4788707320>"
      ]
     },
     "execution_count": 89,
     "metadata": {},
     "output_type": "execute_result"
    },
    {
     "data": {
      "image/png": "[encoded data removed]",
      "text/plain": [
       "<Figure size 432x288 with 1 Axes>"
      ]
     },
     "metadata": {
      "needs_background": "light"
     },
     "output_type": "display_data"
    }
   ],
   "source": [
    "pd.Series(f).plot()"
   ]
  },
  {
   "cell_type": "code",
   "execution_count": 94,
   "metadata": {},
   "outputs": [
    {
     "data": {
      "text/plain": [
       "<matplotlib.axes._subplots.AxesSubplot at 0x7f478875c6d8>"
      ]
     },
     "execution_count": 94,
     "metadata": {},
     "output_type": "execute_result"
    },
    {
     "data": {
      "image/png": "[encoded data removed]",
      "text/plain": [
       "<Figure size 432x288 with 1 Axes>"
      ]
     },
     "metadata": {
      "needs_background": "light"
     },
     "output_type": "display_data"
    }
   ],
   "source": [
    "pd.Series(predicted[:, 0]).plot()"
   ]
  },
  {
   "cell_type": "markdown",
   "metadata": {},
   "source": [
    "参考にする\n",
    "https://qiita.com/tizuo/items/b9af70e8cdc7fb69397f"
   ]
  },
  {
   "cell_type": "code",
   "execution_count": null,
   "metadata": {},
   "outputs": [],
   "source": []
  }
 ],
 "metadata": {
  "kernelspec": {
   "display_name": "isid_linux",
   "language": "python",
   "name": "isid_linux"
  },
  "language_info": {
   "codemirror_mode": {
    "name": "ipython",
    "version": 3
   },
   "file_extension": ".py",
   "mimetype": "text/x-python",
   "name": "python",
   "nbconvert_exporter": "python",
   "pygments_lexer": "ipython3",
   "version": "3.7.2"
  }
 },
 "nbformat": 4,
 "nbformat_minor": 2
}
