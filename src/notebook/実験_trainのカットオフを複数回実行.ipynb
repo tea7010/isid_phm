{
 "cells": [
  {
   "cell_type": "markdown",
   "metadata": {},
   "source": [
    "## 背景・目的\n",
    "* train(valid)をtestの推定分布で同じような打ち切り数になるように後ろ何十行かを切り取ることをしている\n",
    "* そうするとvalid/trainがtestと同じ用な状況でモデリング・評価ができる\n",
    "* ただ、trainの後ろの行がなくなる　= 何か重要な情報が抜けるのではないかと思った\n",
    "* そこで、trainのカットオフはランダムに行っているので、それを複数回やってもいいんじゃない？と思った"
   ]
  },
  {
   "cell_type": "markdown",
   "metadata": {},
   "source": [
    "## 実験条件1\n",
    "変動要因|条件|条件詳細\n",
    "-|-|-\n",
    "特徴量|固定|4関数\n",
    "モデル|固定|SVM\n",
    "trainデータ|変動|230エンジンx使い回し回数、使い回し回数0~19で変化\n",
    "validデータ|固定|30エンジン\n",
    "\n",
    "* 使い回しとは、trainの同じエンジンデータを（おそらく）異なるカットオフ数で、違うデータとして扱うこと。\n",
    "* カットオフ数は、testの推定分布からカーネル密度推定したものからランダムサンプリングする\n",
    "* 例）エンジンNo.100は、200フライトで死んだとする。そこでランダムサンプルされた打ち切り数が50とすると、No.100のエンジンを50で打ち切る。ここで使いまわし数が3とすると、この打ち切り数のランダムサンプリングを3回行う。したがって、エンジンNo.100から3回打ち切り数の違うサンプルを生成する。\n",
    "\n",
    "## 実験コード\n",
    "`src/cha_lab/experiment_reg.py`\n",
    "\n",
    "## 結果\n",
    "以下、結果をまとめる"
   ]
  },
  {
   "cell_type": "code",
   "execution_count": 24,
   "metadata": {},
   "outputs": [
    {
     "data": {
      "text/plain": [
       "<matplotlib.axes._subplots.AxesSubplot at 0x2204110d668>"
      ]
     },
     "execution_count": 24,
     "metadata": {},
     "output_type": "execute_result"
    },
    {
     "data": {
      "image/png": "[encoded data removed]",
      "text/plain": [
       "<Figure size 432x288 with 1 Axes>"
      ]
     },
     "metadata": {
      "needs_background": "light"
     },
     "output_type": "display_data"
    }
   ],
   "source": [
    "import pandas as pd\n",
    "import seaborn as sns\n",
    "\n",
    "result = pd.read_csv('D://isid_phm/data/result.csv')\n",
    "\n",
    "x = result['Experiment_No'].astype(int)\n",
    "y = result['score']\n",
    "\n",
    "sns.lineplot(x, y, marker=True)"
   ]
  },
  {
   "cell_type": "code",
   "execution_count": 21,
   "metadata": {},
   "outputs": [
    {
     "data": {
      "text/html": [
       "<div>\n",
       "<style scoped>\n",
       "    .dataframe tbody tr th:only-of-type {\n",
       "        vertical-align: middle;\n",
       "    }\n",
       "\n",
       "    .dataframe tbody tr th {\n",
       "        vertical-align: top;\n",
       "    }\n",
       "\n",
       "    .dataframe thead th {\n",
       "        text-align: right;\n",
       "    }\n",
       "</style>\n",
       "<table border=\"1\" class=\"dataframe\">\n",
       "  <thead>\n",
       "    <tr style=\"text-align: right;\">\n",
       "      <th></th>\n",
       "      <th>Unnamed: 0</th>\n",
       "      <th>Experiment_No</th>\n",
       "      <th>score</th>\n",
       "    </tr>\n",
       "  </thead>\n",
       "  <tbody>\n",
       "    <tr>\n",
       "      <th>0</th>\n",
       "      <td>0</td>\n",
       "      <td>0.0</td>\n",
       "      <td>33.320771</td>\n",
       "    </tr>\n",
       "    <tr>\n",
       "      <th>1</th>\n",
       "      <td>1</td>\n",
       "      <td>1.0</td>\n",
       "      <td>31.425496</td>\n",
       "    </tr>\n",
       "    <tr>\n",
       "      <th>2</th>\n",
       "      <td>2</td>\n",
       "      <td>2.0</td>\n",
       "      <td>29.437603</td>\n",
       "    </tr>\n",
       "    <tr>\n",
       "      <th>3</th>\n",
       "      <td>3</td>\n",
       "      <td>3.0</td>\n",
       "      <td>27.108013</td>\n",
       "    </tr>\n",
       "    <tr>\n",
       "      <th>4</th>\n",
       "      <td>4</td>\n",
       "      <td>4.0</td>\n",
       "      <td>25.721449</td>\n",
       "    </tr>\n",
       "    <tr>\n",
       "      <th>5</th>\n",
       "      <td>5</td>\n",
       "      <td>5.0</td>\n",
       "      <td>24.906285</td>\n",
       "    </tr>\n",
       "    <tr>\n",
       "      <th>6</th>\n",
       "      <td>6</td>\n",
       "      <td>6.0</td>\n",
       "      <td>24.447858</td>\n",
       "    </tr>\n",
       "    <tr>\n",
       "      <th>7</th>\n",
       "      <td>7</td>\n",
       "      <td>7.0</td>\n",
       "      <td>24.191209</td>\n",
       "    </tr>\n",
       "    <tr>\n",
       "      <th>8</th>\n",
       "      <td>8</td>\n",
       "      <td>8.0</td>\n",
       "      <td>23.837616</td>\n",
       "    </tr>\n",
       "    <tr>\n",
       "      <th>9</th>\n",
       "      <td>9</td>\n",
       "      <td>9.0</td>\n",
       "      <td>23.813808</td>\n",
       "    </tr>\n",
       "    <tr>\n",
       "      <th>10</th>\n",
       "      <td>10</td>\n",
       "      <td>10.0</td>\n",
       "      <td>23.344072</td>\n",
       "    </tr>\n",
       "    <tr>\n",
       "      <th>11</th>\n",
       "      <td>11</td>\n",
       "      <td>11.0</td>\n",
       "      <td>22.865147</td>\n",
       "    </tr>\n",
       "    <tr>\n",
       "      <th>12</th>\n",
       "      <td>12</td>\n",
       "      <td>12.0</td>\n",
       "      <td>22.330494</td>\n",
       "    </tr>\n",
       "    <tr>\n",
       "      <th>13</th>\n",
       "      <td>13</td>\n",
       "      <td>13.0</td>\n",
       "      <td>22.301207</td>\n",
       "    </tr>\n",
       "    <tr>\n",
       "      <th>14</th>\n",
       "      <td>14</td>\n",
       "      <td>14.0</td>\n",
       "      <td>22.055893</td>\n",
       "    </tr>\n",
       "    <tr>\n",
       "      <th>15</th>\n",
       "      <td>15</td>\n",
       "      <td>15.0</td>\n",
       "      <td>21.911568</td>\n",
       "    </tr>\n",
       "    <tr>\n",
       "      <th>16</th>\n",
       "      <td>16</td>\n",
       "      <td>16.0</td>\n",
       "      <td>22.038741</td>\n",
       "    </tr>\n",
       "    <tr>\n",
       "      <th>17</th>\n",
       "      <td>17</td>\n",
       "      <td>17.0</td>\n",
       "      <td>21.831953</td>\n",
       "    </tr>\n",
       "    <tr>\n",
       "      <th>18</th>\n",
       "      <td>18</td>\n",
       "      <td>18.0</td>\n",
       "      <td>21.976012</td>\n",
       "    </tr>\n",
       "    <tr>\n",
       "      <th>19</th>\n",
       "      <td>19</td>\n",
       "      <td>19.0</td>\n",
       "      <td>22.059412</td>\n",
       "    </tr>\n",
       "  </tbody>\n",
       "</table>\n",
       "</div>"
      ],
      "text/plain": [
       "    Unnamed: 0  Experiment_No      score\n",
       "0            0            0.0  33.320771\n",
       "1            1            1.0  31.425496\n",
       "2            2            2.0  29.437603\n",
       "3            3            3.0  27.108013\n",
       "4            4            4.0  25.721449\n",
       "5            5            5.0  24.906285\n",
       "6            6            6.0  24.447858\n",
       "7            7            7.0  24.191209\n",
       "8            8            8.0  23.837616\n",
       "9            9            9.0  23.813808\n",
       "10          10           10.0  23.344072\n",
       "11          11           11.0  22.865147\n",
       "12          12           12.0  22.330494\n",
       "13          13           13.0  22.301207\n",
       "14          14           14.0  22.055893\n",
       "15          15           15.0  21.911568\n",
       "16          16           16.0  22.038741\n",
       "17          17           17.0  21.831953\n",
       "18          18           18.0  21.976012\n",
       "19          19           19.0  22.059412"
      ]
     },
     "execution_count": 21,
     "metadata": {},
     "output_type": "execute_result"
    }
   ],
   "source": [
    "result"
   ]
  },
  {
   "cell_type": "markdown",
   "metadata": {},
   "source": [
    "* このExperiment_Noが使い回しの回数で、scoreがValidデータでの内部評価スコアである。\n",
    "* 10くらいまでどんどんスコアは下がっていっていき、そこからは穏やかに下がる傾向\n",
    "* これはモデルがSVMなので、モデルに有効そうなサンプルがあればあるほどモデルがよくなると考えられる。SVMは少数の有効なサンプルからモデルを構成する傾向のイメージだから、余計なサンプルが増えても影響が少ない？\n",
    "* 30,50とかでどうなるかは試してみたいがあまり変化しなさそう"
   ]
  }
 ],
 "metadata": {
  "kernelspec": {
   "display_name": "isid",
   "language": "python",
   "name": "isid"
  },
  "language_info": {
   "codemirror_mode": {
    "name": "ipython",
    "version": 3
   },
   "file_extension": ".py",
   "mimetype": "text/x-python",
   "name": "python",
   "nbconvert_exporter": "python",
   "pygments_lexer": "ipython3",
   "version": "3.7.2"
  }
 },
 "nbformat": 4,
 "nbformat_minor": 2
}
