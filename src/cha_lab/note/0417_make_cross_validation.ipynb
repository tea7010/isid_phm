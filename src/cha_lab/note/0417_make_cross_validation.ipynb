{
 "cells": [
  {
   "cell_type": "code",
   "execution_count": 1,
   "metadata": {},
   "outputs": [],
   "source": [
    "import sys\n",
    "sys.path.append('D://isid_phm/src')"
   ]
  },
  {
   "cell_type": "code",
   "execution_count": 2,
   "metadata": {},
   "outputs": [
    {
     "data": {
      "text/plain": [
       "(63727, 31)"
      ]
     },
     "execution_count": 2,
     "metadata": {},
     "output_type": "execute_result"
    }
   ],
   "source": [
    "from libs.Dataset import Dataset\n",
    "df = Dataset().load_data(reproduce=True, cutoff=False, write_pickel=False)\n",
    "df.shape"
   ]
  },
  {
   "cell_type": "code",
   "execution_count": 3,
   "metadata": {},
   "outputs": [
    {
     "data": {
      "text/plain": [
       "(66576, 30)"
      ]
     },
     "execution_count": 3,
     "metadata": {},
     "output_type": "execute_result"
    }
   ],
   "source": [
    "df = Dataset().load_raw_data()\n",
    "df.shape"
   ]
  },
  {
   "cell_type": "code",
   "execution_count": 10,
   "metadata": {},
   "outputs": [],
   "source": [
    "import pandas as pd\n",
    "import numpy as np\n",
    "from sklearn.model_selection import train_test_split\n",
    "from sklearn.metrics import mean_absolute_error\n",
    "from sklearn.preprocessing import StandardScaler\n",
    "from sklearn.neural_network import MLPRegressor\n",
    "from sklearn.svm import SVR\n",
    "from lightgbm import LGBMRegressor\n",
    "from sklearn.ensemble import RandomForestRegressor\n",
    "from sklearn.linear_model import Lasso\n",
    "from sklearn.linear_model import Ridge\n",
    "from sklearn.linear_model import LinearRegression\n",
    "\n",
    "from libs.Dataset import Dataset\n",
    "from libs.engine_summarize.EngineSumBase import EngineSumBase\n",
    "from libs.engine_summarize.EngineSumTimeGrad import EngineSumTimeGrad\n",
    "from libs.engine_summarize.EngineSumLastDur import EngineSumLastDur\n",
    "from libs.engine_summarize.EngineSumBasics import EngineSumBasics\n",
    "from libs.standarzation import standarzation_x, encode_y, decode_z\n",
    "from libs.get_train_valid_test import get_train_valid_test\n",
    "from libs.io.submit import submitform\n",
    "from libs.io.label_valid import label_valid, valid_engine_random\n",
    "from libs.io.train_cut_off import cutoff_like_test"
   ]
  },
  {
   "cell_type": "code",
   "execution_count": 5,
   "metadata": {},
   "outputs": [],
   "source": [
    "params = {\n",
    "    'regenarate': True,\n",
    "    'train_cutoff': True,\n",
    "    'num_resample_train': 1,\n",
    "    'scaling': True,\n",
    "    'use_model': 'MLP',\n",
    "    'model_params': {'hidden_layer_sizes': 12,\n",
    "                     'activation': 'tanh',\n",
    "                     'random_state': 3},\n",
    "    'submit': False\n",
    "}"
   ]
  },
  {
   "cell_type": "code",
   "execution_count": 6,
   "metadata": {},
   "outputs": [],
   "source": [
    "REGENARATE = params['regenarate']\n",
    "TRAIN_CUT = params['train_cutoff']\n",
    "NUM_RESAMPLE_TRAIN = params['num_resample_train']\n",
    "SCALING = params['scaling']\n",
    "USE_MODEL = params['use_model']\n",
    "model_params = params['model_params']\n",
    "SUBMIT = params['submit']"
   ]
  },
  {
   "cell_type": "code",
   "execution_count": 39,
   "metadata": {},
   "outputs": [
    {
     "name": "stdout",
     "output_type": "stream",
     "text": [
      "Valid score: 23.179872966052162\n"
     ]
    }
   ],
   "source": [
    "# 元\n",
    "df = Dataset().load_data(REGENARATE, TRAIN_CUT, NUM_RESAMPLE_TRAIN, False)\n",
    "\n",
    "# エンジン別特徴量の作成\n",
    "summarized_df = EngineSumBase().create_feature(df, REGENARATE)\n",
    "summarized_df = EngineSumTimeGrad().create_feature(\n",
    "    df, summarized_df, REGENARATE)\n",
    "summarized_df = EngineSumLastDur().create_feature(\n",
    "    df, summarized_df, REGENARATE)\n",
    "summarized_df = EngineSumBasics().create_feature(\n",
    "    df, summarized_df, REGENARATE)\n",
    "\n",
    "# train, valid, testに分割\n",
    "train, valid, test = get_train_valid_test(summarized_df)\n",
    "x_learn = train.drop(['dead_duration'], axis=1).fillna(0)\n",
    "y_learn = train['dead_duration'].fillna(0)\n",
    "x_valid = valid.drop(['dead_duration'], axis=1).fillna(0)\n",
    "y_valid = valid['dead_duration'].fillna(0)\n",
    "x_test = test.drop(['dead_duration'], axis=1).fillna(0)\n",
    "\n",
    "# trainで正規化を行う\n",
    "if SCALING:\n",
    "    x_learn, x_valid, x_test = standarzation_x(x_learn, x_valid, x_test)\n",
    "    yz_learn = encode_y(y_learn, y_learn.mean(), y_learn.std())\n",
    "\n",
    "# モデル学習\n",
    "model_ex_dict = {\n",
    "    'lm': 'LinearRegressio(**model_params)',\n",
    "    'Lasso': 'Lasso(**model_params)',\n",
    "    'Ridge': 'Ridge(**model_params)',\n",
    "    'LGB': 'LGBMRegressor(**model_params)',\n",
    "    'RF': 'RandomForestRegressor(**model_params)',\n",
    "    'SVR': 'SVR(**model_params)',\n",
    "    'MLP': 'MLPRegressor(**model_params)'\n",
    "}\n",
    "\n",
    "model = eval(model_ex_dict[USE_MODEL])\n",
    "model.fit(x_learn, yz_learn)\n",
    "\n",
    "# モデル評価\n",
    "predict_z = pd.DataFrame(model.predict(x_valid), index=x_valid.index)\n",
    "valid_score = mean_absolute_error(\n",
    "    decode_z(predict_z, y_learn.mean(), y_learn.std()), y_valid)\n",
    "print('Valid score:', valid_score)"
   ]
  },
  {
   "cell_type": "code",
   "execution_count": 43,
   "metadata": {},
   "outputs": [
    {
     "name": "stdout",
     "output_type": "stream",
     "text": [
      "Valid score: 23.179872966052162\n"
     ]
    }
   ],
   "source": [
    "# 置き換えver\n",
    "\n",
    "\n",
    "# 生データの読み込み\n",
    "all_df = Dataset().load_raw_data()\n",
    "\n",
    "# validの作成\n",
    "valid_engine = valid_engine_random(all_df, 30)\n",
    "all_df = label_valid(all_df, valid_engine)\n",
    "\n",
    "train = all_df[(all_df['is_train'] == 1) &\n",
    "               (all_df['is_valid'] != 1)]\n",
    "test = all_df[all_df['is_train'] == 0]\n",
    "valid = all_df[all_df['is_valid'] == 1]\n",
    "\n",
    "if TRAIN_CUT:\n",
    "    # testデータみたいに、不完全なフライトデータにする\n",
    "    cut_train = cutoff_like_test(train, train, NUM_RESAMPLE_TRAIN)\n",
    "    merged_df = pd.concat([cut_train, test], axis=0)\n",
    "else:\n",
    "    merged_df = pd.concat([train, test], axis=0)\n",
    "\n",
    "# validはカットオフ1回のみ実施\n",
    "cut_valid = cutoff_like_test(valid, test, 1)\n",
    "df = pd.concat([merged_df, cut_valid], axis=0)\n",
    "\n",
    "# エンジン別特徴量の作成\n",
    "summarized_df = EngineSumBase().create_feature(df, REGENARATE)\n",
    "summarized_df = EngineSumTimeGrad().create_feature(\n",
    "    df, summarized_df, REGENARATE)\n",
    "summarized_df = EngineSumLastDur().create_feature(\n",
    "    df, summarized_df, REGENARATE)\n",
    "summarized_df = EngineSumBasics().create_feature(\n",
    "    df, summarized_df, REGENARATE)\n",
    "\n",
    "# train, valid, testに分割\n",
    "train, valid, test = get_train_valid_test(summarized_df)\n",
    "x_learn = train.drop(['dead_duration'], axis=1).fillna(0)\n",
    "y_learn = train['dead_duration'].fillna(0)\n",
    "x_valid = valid.drop(['dead_duration'], axis=1).fillna(0)\n",
    "y_valid = valid['dead_duration'].fillna(0)\n",
    "x_test = test.drop(['dead_duration'], axis=1).fillna(0)\n",
    "\n",
    "# trainで正規化を行う\n",
    "if SCALING:\n",
    "    x_learn, x_valid, x_test = standarzation_x(x_learn, x_valid, x_test)\n",
    "    yz_learn = encode_y(y_learn, y_learn.mean(), y_learn.std())\n",
    "\n",
    "# モデル学習\n",
    "model_ex_dict = {\n",
    "    'lm': 'LinearRegressio(**model_params)',\n",
    "    'Lasso': 'Lasso(**model_params)',\n",
    "    'Ridge': 'Ridge(**model_params)',\n",
    "    'LGB': 'LGBMRegressor(**model_params)',\n",
    "    'RF': 'RandomForestRegressor(**model_params)',\n",
    "    'SVR': 'SVR(**model_params)',\n",
    "    'MLP': 'MLPRegressor(**model_params)'\n",
    "}\n",
    "\n",
    "model = eval(model_ex_dict[USE_MODEL])\n",
    "model.fit(x_learn, yz_learn)\n",
    "\n",
    "# モデル評価\n",
    "predict_z = pd.DataFrame(model.predict(x_valid), index=x_valid.index)\n",
    "valid_score = mean_absolute_error(\n",
    "    decode_z(predict_z, y_learn.mean(), y_learn.std()), y_valid)\n",
    "print('Valid score:', valid_score)"
   ]
  },
  {
   "cell_type": "markdown",
   "metadata": {},
   "source": [
    "#### CV ver"
   ]
  },
  {
   "cell_type": "code",
   "execution_count": 8,
   "metadata": {},
   "outputs": [],
   "source": [
    "# 生データの読み込み\n",
    "raw_df = Dataset().load_raw_data()"
   ]
  },
  {
   "cell_type": "code",
   "execution_count": 29,
   "metadata": {},
   "outputs": [
    {
     "name": "stderr",
     "output_type": "stream",
     "text": [
      "C:\\Users\\km70446\\AppData\\Local\\Continuum\\anaconda3\\envs\\isid\\lib\\site-packages\\sklearn\\neural_network\\multilayer_perceptron.py:562: ConvergenceWarning: Stochastic Optimizer: Maximum iterations (200) reached and the optimization hasn't converged yet.\n",
      "  % self.max_iter, ConvergenceWarning)\n"
     ]
    },
    {
     "name": "stdout",
     "output_type": "stream",
     "text": [
      "1/5 score: 41.588814700891135\n"
     ]
    },
    {
     "name": "stderr",
     "output_type": "stream",
     "text": [
      "C:\\Users\\km70446\\AppData\\Local\\Continuum\\anaconda3\\envs\\isid\\lib\\site-packages\\sklearn\\neural_network\\multilayer_perceptron.py:562: ConvergenceWarning: Stochastic Optimizer: Maximum iterations (200) reached and the optimization hasn't converged yet.\n",
      "  % self.max_iter, ConvergenceWarning)\n"
     ]
    },
    {
     "name": "stdout",
     "output_type": "stream",
     "text": [
      "2/5 score: 35.248978069863675\n"
     ]
    },
    {
     "name": "stderr",
     "output_type": "stream",
     "text": [
      "C:\\Users\\km70446\\AppData\\Local\\Continuum\\anaconda3\\envs\\isid\\lib\\site-packages\\sklearn\\neural_network\\multilayer_perceptron.py:562: ConvergenceWarning: Stochastic Optimizer: Maximum iterations (200) reached and the optimization hasn't converged yet.\n",
      "  % self.max_iter, ConvergenceWarning)\n"
     ]
    },
    {
     "name": "stdout",
     "output_type": "stream",
     "text": [
      "3/5 score: 32.62707130535347\n",
      "4/5 score: 25.701507632554772\n",
      "5/5 score: 28.400236885006127\n",
      "CV score: 32.713322\n"
     ]
    },
    {
     "name": "stderr",
     "output_type": "stream",
     "text": [
      "C:\\Users\\km70446\\AppData\\Local\\Continuum\\anaconda3\\envs\\isid\\lib\\site-packages\\sklearn\\neural_network\\multilayer_perceptron.py:562: ConvergenceWarning: Stochastic Optimizer: Maximum iterations (200) reached and the optimization hasn't converged yet.\n",
      "  % self.max_iter, ConvergenceWarning)\n"
     ]
    }
   ],
   "source": [
    "FOLD_NUM = 5\n",
    "# trainのエンジンNo\n",
    "train_eg = raw_df[raw_df['is_train'] == 1]['engine_no'].unique()\n",
    "\n",
    "# 5-foldにしたい\n",
    "eg_split = np.array_split(train_eg, FOLD_NUM)\n",
    "\n",
    "cv_df = pd.DataFrame(index=range(FOLD_NUM))\n",
    "for i in range(FOLD_NUM):\n",
    "    # validの作成\n",
    "    all_df = label_valid(raw_df, eg_split[i])\n",
    "\n",
    "    score_i = valid_evaluation(all_df)\n",
    "    print('%s/%s score: %s' % (i+1, FOLD_NUM, score_i))\n",
    "    cv_df.loc[i, 'score'] = score_i\n",
    "    \n",
    "cv_score = cv_df['score'].sum()/FOLD_NUM\n",
    "print('CV score: %f' % cv_score)"
   ]
  },
  {
   "cell_type": "code",
   "execution_count": 30,
   "metadata": {},
   "outputs": [
    {
     "data": {
      "text/html": [
       "<div>\n",
       "<style scoped>\n",
       "    .dataframe tbody tr th:only-of-type {\n",
       "        vertical-align: middle;\n",
       "    }\n",
       "\n",
       "    .dataframe tbody tr th {\n",
       "        vertical-align: top;\n",
       "    }\n",
       "\n",
       "    .dataframe thead th {\n",
       "        text-align: right;\n",
       "    }\n",
       "</style>\n",
       "<table border=\"1\" class=\"dataframe\">\n",
       "  <thead>\n",
       "    <tr style=\"text-align: right;\">\n",
       "      <th></th>\n",
       "      <th>score</th>\n",
       "    </tr>\n",
       "  </thead>\n",
       "  <tbody>\n",
       "    <tr>\n",
       "      <th>0</th>\n",
       "      <td>41.588815</td>\n",
       "    </tr>\n",
       "    <tr>\n",
       "      <th>1</th>\n",
       "      <td>35.248978</td>\n",
       "    </tr>\n",
       "    <tr>\n",
       "      <th>2</th>\n",
       "      <td>32.627071</td>\n",
       "    </tr>\n",
       "    <tr>\n",
       "      <th>3</th>\n",
       "      <td>25.701508</td>\n",
       "    </tr>\n",
       "    <tr>\n",
       "      <th>4</th>\n",
       "      <td>28.400237</td>\n",
       "    </tr>\n",
       "  </tbody>\n",
       "</table>\n",
       "</div>"
      ],
      "text/plain": [
       "       score\n",
       "0  41.588815\n",
       "1  35.248978\n",
       "2  32.627071\n",
       "3  25.701508\n",
       "4  28.400237"
      ]
     },
     "execution_count": 30,
     "metadata": {},
     "output_type": "execute_result"
    }
   ],
   "source": [
    "cv_df"
   ]
  },
  {
   "cell_type": "code",
   "execution_count": 28,
   "metadata": {},
   "outputs": [],
   "source": [
    "def valid_evaluation(all_df):\n",
    "    train = all_df[(all_df['is_train'] == 1) &\n",
    "                   (all_df['is_valid'] != 1)]\n",
    "    test = all_df[all_df['is_train'] == 0]\n",
    "    valid = all_df[all_df['is_valid'] == 1]\n",
    "\n",
    "    if TRAIN_CUT:\n",
    "        # testデータみたいに、不完全なフライトデータにする\n",
    "        cut_train = cutoff_like_test(train, train, NUM_RESAMPLE_TRAIN)\n",
    "        merged_df = pd.concat([cut_train, test], axis=0)\n",
    "    else:\n",
    "        merged_df = pd.concat([train, test], axis=0)\n",
    "\n",
    "    # validはカットオフ1回のみ実施\n",
    "    cut_valid = cutoff_like_test(valid, test, 1)\n",
    "    df = pd.concat([merged_df, cut_valid], axis=0)\n",
    "    \n",
    "    # エンジン別特徴量の作成\n",
    "    summarized_df = EngineSumBase().create_feature(df, REGENARATE)\n",
    "    summarized_df = EngineSumTimeGrad().create_feature(\n",
    "        df, summarized_df, REGENARATE)\n",
    "    summarized_df = EngineSumLastDur().create_feature(\n",
    "        df, summarized_df, REGENARATE)\n",
    "    summarized_df = EngineSumBasics().create_feature(\n",
    "        df, summarized_df, REGENARATE)\n",
    "\n",
    "    # train, valid, testに分割\n",
    "    train, valid, test = get_train_valid_test(summarized_df)\n",
    "    x_learn = train.drop(['dead_duration'], axis=1).fillna(0)\n",
    "    y_learn = train['dead_duration'].fillna(0)\n",
    "    x_valid = valid.drop(['dead_duration'], axis=1).fillna(0)\n",
    "    y_valid = valid['dead_duration'].fillna(0)\n",
    "    x_test = test.drop(['dead_duration'], axis=1).fillna(0)\n",
    "\n",
    "    # trainで正規化を行う\n",
    "    if SCALING:\n",
    "        x_learn, x_valid, x_test = standarzation_x(x_learn, x_valid, x_test)\n",
    "        yz_learn = encode_y(y_learn, y_learn.mean(), y_learn.std())\n",
    "\n",
    "    # モデル学習\n",
    "    model_ex_dict = {\n",
    "        'lm': 'LinearRegressio(**model_params)',\n",
    "        'Lasso': 'Lasso(**model_params)',\n",
    "        'Ridge': 'Ridge(**model_params)',\n",
    "        'LGB': 'LGBMRegressor(**model_params)',\n",
    "        'RF': 'RandomForestRegressor(**model_params)',\n",
    "        'SVR': 'SVR(**model_params)',\n",
    "        'MLP': 'MLPRegressor(**model_params)'\n",
    "    }\n",
    "\n",
    "    model = eval(model_ex_dict[USE_MODEL])\n",
    "    model.fit(x_learn, yz_learn)\n",
    "\n",
    "    # モデル評価\n",
    "    predict_z = pd.DataFrame(model.predict(x_valid), index=x_valid.index)\n",
    "    valid_score = mean_absolute_error(\n",
    "        decode_z(predict_z, y_learn.mean(), y_learn.std()), y_valid)\n",
    "    return valid_score"
   ]
  },
  {
   "cell_type": "code",
   "execution_count": null,
   "metadata": {},
   "outputs": [],
   "source": []
  }
 ],
 "metadata": {
  "kernelspec": {
   "display_name": "isid",
   "language": "python",
   "name": "isid"
  },
  "language_info": {
   "codemirror_mode": {
    "name": "ipython",
    "version": 3
   },
   "file_extension": ".py",
   "mimetype": "text/x-python",
   "name": "python",
   "nbconvert_exporter": "python",
   "pygments_lexer": "ipython3",
   "version": "3.7.3"
  }
 },
 "nbformat": 4,
 "nbformat_minor": 2
}
